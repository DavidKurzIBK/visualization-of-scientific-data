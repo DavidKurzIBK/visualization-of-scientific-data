{
 "cells": [
  {
   "cell_type": "markdown",
   "metadata": {},
   "source": [
    "# Create custum colormaps\n",
    "## using HCl colorspace for perceptual uniform cmaps"
   ]
  },
  {
   "cell_type": "code",
   "execution_count": 3,
   "metadata": {},
   "outputs": [
    {
     "name": "stdout",
     "output_type": "stream",
     "text": [
      "Collecting git+https://github.com/retostauffer/python-colorspace\n",
      "  Cloning https://github.com/retostauffer/python-colorspace to c:\\users\\david\\appdata\\local\\temp\\pip-req-build-ny_6xwsr\n",
      "  Resolved https://github.com/retostauffer/python-colorspace to commit f823acded12f74c16095daa7c0a33907ee63f62c\n",
      "  Preparing metadata (setup.py): started\n",
      "  Preparing metadata (setup.py): finished with status 'done'\n",
      "Requirement already satisfied: numpy in c:\\users\\david\\miniconda3\\envs\\viz_env\\lib\\site-packages (from colorspace==0.1.0) (1.22.3)\n",
      "Building wheels for collected packages: colorspace\n",
      "  Building wheel for colorspace (setup.py): started\n",
      "  Building wheel for colorspace (setup.py): finished with status 'done'\n",
      "  Created wheel for colorspace: filename=colorspace-0.1.0-py3-none-any.whl size=142205 sha256=e004714e6d4b015104c3bde75841de6c99b0e837e33f23ad886a5296b1986240\n",
      "  Stored in directory: C:\\Users\\david\\AppData\\Local\\Temp\\pip-ephem-wheel-cache-bn8mlg_5\\wheels\\eb\\94\\fc\\81433ab18bdf1f476d877d2ed7c4d51e20b65f9b5cf82f8795\n",
      "Successfully built colorspace\n",
      "Installing collected packages: colorspace\n",
      "Successfully installed colorspace-0.1.0\n"
     ]
    },
    {
     "name": "stderr",
     "output_type": "stream",
     "text": [
      "  Running command git clone --filter=blob:none --quiet https://github.com/retostauffer/python-colorspace 'C:\\Users\\david\\AppData\\Local\\Temp\\pip-req-build-ny_6xwsr'\n"
     ]
    }
   ],
   "source": [
    "%matplotlib inline\n",
    "\n",
    "\n",
    "import numpy as np\n",
    "import pandas as pd\n",
    "import matplotlib.pyplot as plt\n",
    "\n",
    "from matplotlib.colors import ListedColormap\n",
    "from matplotlib.colors import LinearSegmentedColormap\n",
    "\n",
    "\n",
    "import spectra\n",
    "from colorspacious import cspace_converter\n",
    "\n",
    "! pip install git+https://github.com/retostauffer/python-colorspace\n",
    "import colorspace\n",
    "from colorspace import sequential_hcl\n",
    "\n",
    "projectpath = 'C:/Users/david/OneDrive - uibk.ac.at/MA/VU Elective Vizualisation of scientific data/lecture material/jupyter notebooks'\n"
   ]
  },
  {
   "cell_type": "code",
   "execution_count": 4,
   "metadata": {},
   "outputs": [],
   "source": [
    "fc='.8'\n",
    "plt.rcParams['axes.facecolor'] = '1'\n",
    "plt.rcParams['axes.edgecolor'] = fc\n",
    "plt.rcParams['axes.linewidth'] = .5\n",
    "\n",
    "plt.rcParams['axes.labelcolor'] = fc\n",
    "plt.rcParams['grid.color'] = '.8'\n",
    "plt.rcParams['grid.linewidth'] = .5\n",
    "\n",
    "plt.rcParams['xtick.major.size'] = 0\n",
    "plt.rcParams['ytick.major.size'] = 0\n",
    "\n",
    "\n",
    "fs=10\n"
   ]
  },
  {
   "cell_type": "code",
   "execution_count": null,
   "metadata": {},
   "outputs": [],
   "source": []
  },
  {
   "cell_type": "code",
   "execution_count": null,
   "metadata": {},
   "outputs": [],
   "source": []
  },
  {
   "cell_type": "markdown",
   "metadata": {
    "tags": []
   },
   "source": [
    "# Colorspace converting tools  "
   ]
  },
  {
   "cell_type": "code",
   "execution_count": 5,
   "metadata": {},
   "outputs": [],
   "source": [
    "rgb=(.4,.5,.6)"
   ]
  },
  {
   "cell_type": "code",
   "execution_count": 6,
   "metadata": {},
   "outputs": [
    {
     "data": {
      "text/plain": [
       "array([ 52.32228468,  -2.74179594, -16.66134743])"
      ]
     },
     "execution_count": 6,
     "metadata": {},
     "output_type": "execute_result"
    }
   ],
   "source": [
    "# cspace_converter\n",
    "cspace_converter(\"sRGB1\", \"CIELab\")(rgb)"
   ]
  },
  {
   "cell_type": "code",
   "execution_count": 7,
   "metadata": {},
   "outputs": [
    {
     "data": {
      "text/plain": [
       "array([ 52.32228468,  16.88543583, 260.65514321])"
      ]
     },
     "execution_count": 7,
     "metadata": {},
     "output_type": "execute_result"
    }
   ],
   "source": [
    "cspace_converter(\"sRGB1\", \"CIELCh\")(rgb)"
   ]
  },
  {
   "cell_type": "code",
   "execution_count": 8,
   "metadata": {},
   "outputs": [
    {
     "data": {
      "text/plain": [
       "(52.322495417496086, 16.884376335202916, 260.6402704903056)"
      ]
     },
     "execution_count": 8,
     "metadata": {},
     "output_type": "execute_result"
    }
   ],
   "source": [
    "#spectra\n",
    "r,g,b=rgb[0],rgb[1],rgb[2]\n",
    "spectra.rgb(r,g,b).to(\"lch\").values"
   ]
  },
  {
   "cell_type": "code",
   "execution_count": 9,
   "metadata": {},
   "outputs": [
    {
     "data": {
      "text/plain": [
       "(52.322495417496086, -2.745948454240754, -16.65958977032187)"
      ]
     },
     "execution_count": 9,
     "metadata": {},
     "output_type": "execute_result"
    }
   ],
   "source": [
    "spectra.rgb(r,g,b).to(\"lab\").values"
   ]
  },
  {
   "cell_type": "code",
   "execution_count": null,
   "metadata": {},
   "outputs": [],
   "source": []
  },
  {
   "cell_type": "code",
   "execution_count": 10,
   "metadata": {},
   "outputs": [
    {
     "data": {
      "text/plain": [
       "(89.03186051746415, 97.07082990089054, 50.71510362502785)"
      ]
     },
     "execution_count": 10,
     "metadata": {},
     "output_type": "execute_result"
    }
   ],
   "source": [
    "#back and forth transformation not 100%\n",
    "cs = spectra.lch(90,100,50).rgb\n",
    "spectra.rgb(cs[0],cs[1],cs[2]).to(\"lch\").values"
   ]
  },
  {
   "cell_type": "code",
   "execution_count": 11,
   "metadata": {},
   "outputs": [],
   "source": [
    "def plot_cmap(cmap):\n",
    "    '''\n",
    "    '''\n",
    "    ax = plt.figure(figsize=[10,10]).add_axes([0,0,1,1])\n",
    "\n",
    "    p1 = ax.imshow(np.array([[1,1],[2,2]]),cmap=cmap,alpha=1)\n",
    "    cb = plt.colorbar(p1,orientation='horizontal')\n",
    "    cb.set_ticks([])\n",
    "    ax.set_visible(False)\n",
    "    \n",
    "    return ax\n",
    "\n",
    "def gamut(c_tup):\n",
    "    \n",
    "    if any([c>1 for c in c_tup]):\n",
    "        c_tup2=(0.95,0.95,.95)\n",
    "    else:\n",
    "        c_tup2=c_tup\n",
    "    return tuple(c_tup2)\n",
    "\n",
    "\n",
    "def cmap_hcl(hs,cs,ls):\n",
    "    \n",
    "    cmap = ListedColormap([gamut(spectra.lch(i,j,k).rgb) for \n",
    "                     (i,j,k) in zip(ls,cs,hs)])\n",
    "    return cmap"
   ]
  },
  {
   "cell_type": "code",
   "execution_count": null,
   "metadata": {},
   "outputs": [],
   "source": []
  },
  {
   "cell_type": "code",
   "execution_count": null,
   "metadata": {},
   "outputs": [],
   "source": []
  },
  {
   "cell_type": "code",
   "execution_count": null,
   "metadata": {},
   "outputs": [],
   "source": []
  },
  {
   "cell_type": "markdown",
   "metadata": {
    "tags": []
   },
   "source": [
    "# Custom cmaps\n",
    "## define arrays of hues (hs), chromas (cs) and luminances (ls)"
   ]
  },
  {
   "cell_type": "code",
   "execution_count": 12,
   "metadata": {},
   "outputs": [
    {
     "data": {
      "text/plain": [
       "(0.0, 100.0)"
      ]
     },
     "execution_count": 12,
     "metadata": {},
     "output_type": "execute_result"
    },
    {
     "data": {
      "image/png": "[encoded data removed]",
      "text/plain": [
       "<Figure size 432x288 with 1 Axes>"
      ]
     },
     "metadata": {
      "needs_background": "light"
     },
     "output_type": "display_data"
    }
   ],
   "source": [
    "n = 21\n",
    "x = np.linspace(-1,1,n)\n",
    "\n",
    "ls = 75*(1-x**2)+15\n",
    "cs = 50*(x**2)+25\n",
    "\n",
    "plt.plot(x,ls,'r.')\n",
    "plt.plot(x,cs,'b.')\n",
    "plt.ylim(0,100)"
   ]
  },
  {
   "cell_type": "code",
   "execution_count": 13,
   "metadata": {},
   "outputs": [
    {
     "data": {
      "text/plain": [
       "<Axes:>"
      ]
     },
     "execution_count": 13,
     "metadata": {},
     "output_type": "execute_result"
    },
    {
     "data": {
      "image/png": "[encoded data removed]",
      "text/plain": [
       "<Figure size 720x720 with 2 Axes>"
      ]
     },
     "metadata": {
      "needs_background": "light"
     },
     "output_type": "display_data"
    }
   ],
   "source": [
    "hs = np.linspace(0,300,n)\n",
    "\n",
    "cmap_rb_div1 = cmap_hcl(hs,cs,ls)\n",
    "plot_cmap(cmap_rb_div1)\n",
    "#plt.savefig(projectpath+'cmap_rb_div1.pdf',bbox_inches='tight',dpi=300)"
   ]
  },
  {
   "cell_type": "code",
   "execution_count": 14,
   "metadata": {},
   "outputs": [
    {
     "data": {
      "image/png": "[encoded data removed]",
      "text/plain": [
       "<Figure size 720x720 with 2 Axes>"
      ]
     },
     "metadata": {
      "needs_background": "light"
     },
     "output_type": "display_data"
    }
   ],
   "source": [
    "hs = np.linspace(0,300,n)\n",
    "cs = 60*np.ones(n)\n",
    "\n",
    "cmap_rb1 = cmap_hcl(hs,cs,ls)\n",
    "plot_cmap(cmap_rb1);"
   ]
  },
  {
   "cell_type": "code",
   "execution_count": 15,
   "metadata": {},
   "outputs": [
    {
     "data": {
      "text/plain": [
       "(0.0, 100.0)"
      ]
     },
     "execution_count": 15,
     "metadata": {},
     "output_type": "execute_result"
    },
    {
     "data": {
      "image/png": "[encoded data removed]",
      "text/plain": [
       "<Figure size 432x288 with 1 Axes>"
      ]
     },
     "metadata": {
      "needs_background": "light"
     },
     "output_type": "display_data"
    }
   ],
   "source": [
    "n = 21\n",
    "x = np.linspace(-1,1,n)\n",
    "\n",
    "ls = 1*(1-x**2)+60\n",
    "cs = 10*(1-x**2)+57\n",
    "\n",
    "plt.plot(x,ls,'r.')\n",
    "plt.plot(x,cs,'b.')\n",
    "plt.ylim(0,100)"
   ]
  },
  {
   "cell_type": "code",
   "execution_count": 16,
   "metadata": {},
   "outputs": [
    {
     "data": {
      "text/plain": [
       "<Axes:>"
      ]
     },
     "execution_count": 16,
     "metadata": {},
     "output_type": "execute_result"
    },
    {
     "data": {
      "image/png": "[encoded data removed]",
      "text/plain": [
       "<Figure size 720x720 with 2 Axes>"
      ]
     },
     "metadata": {
      "needs_background": "light"
     },
     "output_type": "display_data"
    }
   ],
   "source": [
    "n = 20\n",
    "cmap_rb_flat = cmap_hcl(np.linspace(-20,270,n),ls,cs)\n",
    "plot_cmap(cmap_rb_flat)\n",
    "#plt.savefig(projectpath+'cmap_rb_flat2.pdf',bbox_inches='tight',dpi=300)"
   ]
  },
  {
   "cell_type": "code",
   "execution_count": 17,
   "metadata": {},
   "outputs": [
    {
     "data": {
      "text/plain": [
       "<Axes:>"
      ]
     },
     "execution_count": 17,
     "metadata": {},
     "output_type": "execute_result"
    },
    {
     "data": {
      "image/png": "[encoded data removed]",
      "text/plain": [
       "<Figure size 720x720 with 2 Axes>"
      ]
     },
     "metadata": {
      "needs_background": "light"
     },
     "output_type": "display_data"
    }
   ],
   "source": [
    "n = 20\n",
    "cmap_rb_flat = cmap_hcl(np.linspace(-20,270,n),60*np.ones(n),60*np.ones(n))\n",
    "plot_cmap(cmap_rb_flat)\n",
    "#plt.savefig(projectpath+'cmap_rb_flat.pdf',bbox_inches='tight',dpi=300)"
   ]
  },
  {
   "cell_type": "code",
   "execution_count": 18,
   "metadata": {},
   "outputs": [
    {
     "data": {
      "text/plain": [
       "<Axes:>"
      ]
     },
     "execution_count": 18,
     "metadata": {},
     "output_type": "execute_result"
    },
    {
     "data": {
      "image/png": "[encoded data removed]",
      "text/plain": [
       "<Figure size 720x720 with 2 Axes>"
      ]
     },
     "metadata": {
      "needs_background": "light"
     },
     "output_type": "display_data"
    }
   ],
   "source": [
    "n = 21\n",
    "cmap_rb_cyc = cmap_hcl(np.linspace(0,320,n),60*np.ones(n),60*np.ones(n))\n",
    "plot_cmap(cmap_rb_cyc)\n",
    "#plt.savefig(projectpath+'cmap_rb_cyc.pdf',bbox_inches='tight',dpi=300)"
   ]
  },
  {
   "cell_type": "code",
   "execution_count": 19,
   "metadata": {},
   "outputs": [
    {
     "data": {
      "text/plain": [
       "(0.0, 100.0)"
      ]
     },
     "execution_count": 19,
     "metadata": {},
     "output_type": "execute_result"
    },
    {
     "data": {
      "image/png": "[encoded data removed]",
      "text/plain": [
       "<Figure size 432x288 with 1 Axes>"
      ]
     },
     "metadata": {
      "needs_background": "light"
     },
     "output_type": "display_data"
    }
   ],
   "source": [
    "n = 21\n",
    "x = np.linspace(-1,1,n)\n",
    "\n",
    "ls = 60*(1-x**2)+30\n",
    "cs = 10*(1-x**2)+40\n",
    "\n",
    "plt.plot(x,ls,'r.')\n",
    "plt.plot(x,cs,'b.')\n",
    "plt.ylim(0,100)"
   ]
  },
  {
   "cell_type": "code",
   "execution_count": 20,
   "metadata": {},
   "outputs": [
    {
     "data": {
      "text/plain": [
       "<Axes:>"
      ]
     },
     "execution_count": 20,
     "metadata": {},
     "output_type": "execute_result"
    },
    {
     "data": {
      "image/png": "[encoded data removed]",
      "text/plain": [
       "<Figure size 720x720 with 2 Axes>"
      ]
     },
     "metadata": {
      "needs_background": "light"
     },
     "output_type": "display_data"
    }
   ],
   "source": [
    "cmap_rb_div2 = cmap_hcl(np.linspace(0,300,n),cs,ls)\n",
    "plot_cmap(cmap_rb_div2)\n",
    "#plt.savefig(projectpath+'cmap_rb_div2.pdf',bbox_inches='tight',dpi=300)"
   ]
  },
  {
   "cell_type": "code",
   "execution_count": 21,
   "metadata": {},
   "outputs": [
    {
     "data": {
      "text/plain": [
       "(0.0, 100.0)"
      ]
     },
     "execution_count": 21,
     "metadata": {},
     "output_type": "execute_result"
    },
    {
     "data": {
      "image/png": "[encoded data removed]",
      "text/plain": [
       "<Figure size 432x288 with 1 Axes>"
      ]
     },
     "metadata": {
      "needs_background": "light"
     },
     "output_type": "display_data"
    }
   ],
   "source": [
    "n = 21\n",
    "x = np.linspace(-1,1,n)\n",
    "\n",
    "ls = 60*(1-abs(x))+30\n",
    "cs=10*(1-x**2)+40\n",
    "\n",
    "plt.plot(x,ls,'r.')\n",
    "plt.plot(x,cs,'b.')\n",
    "plt.ylim(0,100)"
   ]
  },
  {
   "cell_type": "code",
   "execution_count": 22,
   "metadata": {},
   "outputs": [
    {
     "data": {
      "text/plain": [
       "<Axes:>"
      ]
     },
     "execution_count": 22,
     "metadata": {},
     "output_type": "execute_result"
    },
    {
     "data": {
      "image/png": "[encoded data removed]",
      "text/plain": [
       "<Figure size 720x720 with 2 Axes>"
      ]
     },
     "metadata": {
      "needs_background": "light"
     },
     "output_type": "display_data"
    }
   ],
   "source": [
    "cmap_rb_div3 = cmap_hcl(np.linspace(-60,300,n),cs,ls)\n",
    "plot_cmap(cmap_rb_div3)\n",
    "#plt.savefig(projectpath+'cmap_rb_div3.pdf',bbox_inches='tight',dpi=300)"
   ]
  },
  {
   "cell_type": "code",
   "execution_count": 23,
   "metadata": {},
   "outputs": [
    {
     "data": {
      "text/plain": [
       "(0.0, 100.0)"
      ]
     },
     "execution_count": 23,
     "metadata": {},
     "output_type": "execute_result"
    },
    {
     "data": {
      "image/png": "[encoded data removed]",
      "text/plain": [
       "<Figure size 432x288 with 1 Axes>"
      ]
     },
     "metadata": {
      "needs_background": "light"
     },
     "output_type": "display_data"
    }
   ],
   "source": [
    "n=20\n",
    "x=np.linspace(-1,1,n)\n",
    "ls=85*(1-abs(x))+10\n",
    "cs=70*(abs(x))+5\n",
    "\n",
    "plt.plot(x,ls,'.')\n",
    "plt.plot(x,cs,'.',c='.7')\n",
    "\n",
    "plt.ylim(0,100)"
   ]
  },
  {
   "cell_type": "code",
   "execution_count": 24,
   "metadata": {},
   "outputs": [],
   "source": [
    "n = 20\n",
    "hs = list(20*np.ones(int(n/2)))+list(230*np.ones(int(n/2)))"
   ]
  },
  {
   "cell_type": "code",
   "execution_count": 25,
   "metadata": {},
   "outputs": [
    {
     "data": {
      "text/plain": [
       "<Axes:>"
      ]
     },
     "execution_count": 25,
     "metadata": {},
     "output_type": "execute_result"
    },
    {
     "data": {
      "image/png": "[encoded data removed]",
      "text/plain": [
       "<Figure size 720x720 with 2 Axes>"
      ]
     },
     "metadata": {
      "needs_background": "light"
     },
     "output_type": "display_data"
    }
   ],
   "source": [
    "cmap_div1 = cmap_hcl(hs,cs,ls)\n",
    "plot_cmap(cmap_div1)"
   ]
  },
  {
   "cell_type": "code",
   "execution_count": 26,
   "metadata": {},
   "outputs": [
    {
     "data": {
      "text/plain": [
       "(0.0, 100.0)"
      ]
     },
     "execution_count": 26,
     "metadata": {},
     "output_type": "execute_result"
    },
    {
     "data": {
      "image/png": "[encoded data removed]",
      "text/plain": [
       "<Figure size 432x288 with 1 Axes>"
      ]
     },
     "metadata": {
      "needs_background": "light"
     },
     "output_type": "display_data"
    }
   ],
   "source": [
    "n=21\n",
    "x=np.linspace(-1,1,n)\n",
    "ls=50*(1-abs(x))+20\n",
    "\n",
    "plt.plot(x,ls,'.')\n",
    "plt.ylim(0,100)"
   ]
  },
  {
   "cell_type": "code",
   "execution_count": 27,
   "metadata": {},
   "outputs": [
    {
     "data": {
      "image/png": "[encoded data removed]",
      "text/plain": [
       "<Figure size 720x720 with 2 Axes>"
      ]
     },
     "metadata": {
      "needs_background": "light"
     },
     "output_type": "display_data"
    }
   ],
   "source": [
    "cmap_div2 = cmap_hcl(np.linspace(220,440,n),50*np.ones(n),ls)\n",
    "plot_cmap(cmap_div2);"
   ]
  },
  {
   "cell_type": "code",
   "execution_count": 28,
   "metadata": {},
   "outputs": [
    {
     "data": {
      "text/plain": [
       "<Axes:>"
      ]
     },
     "execution_count": 28,
     "metadata": {},
     "output_type": "execute_result"
    },
    {
     "data": {
      "image/png": "[encoded data removed]",
      "text/plain": [
       "<Figure size 720x720 with 2 Axes>"
      ]
     },
     "metadata": {
      "needs_background": "light"
     },
     "output_type": "display_data"
    }
   ],
   "source": [
    "cmap = cmap_hcl(np.linspace(270,0,n),np.linspace(40,40,n),np.linspace(70,30,n))\n",
    "plot_cmap(cmap)"
   ]
  },
  {
   "cell_type": "code",
   "execution_count": 29,
   "metadata": {},
   "outputs": [
    {
     "data": {
      "text/plain": [
       "<Axes:>"
      ]
     },
     "execution_count": 29,
     "metadata": {},
     "output_type": "execute_result"
    },
    {
     "data": {
      "image/png": "[encoded data removed]",
      "text/plain": [
       "<Figure size 720x720 with 2 Axes>"
      ]
     },
     "metadata": {
      "needs_background": "light"
     },
     "output_type": "display_data"
    }
   ],
   "source": [
    "cmap_seq1 = cmap_hcl(np.linspace(180,400,n),np.linspace(10,80,n),np.linspace(95,10,n))\n",
    "plot_cmap(cmap_seq1)"
   ]
  },
  {
   "cell_type": "markdown",
   "metadata": {
    "tags": []
   },
   "source": [
    "# plot HCL space"
   ]
  },
  {
   "cell_type": "code",
   "execution_count": 30,
   "metadata": {},
   "outputs": [],
   "source": [
    "fs=10 #fontsize\n",
    "\n",
    "def cmap2hcl(cmap,n):\n",
    "    '''\n",
    "    convert a mpl cmap to hcl coords\n",
    "    '''\n",
    "    n = cmap.N\n",
    "    cmap_l = [cmap(k) for k in range(n)]\n",
    "    lchs = [spectra.rgb(c[0],c[1],c[2]).to(\"lch\").values for c in cmap_l]\n",
    "    hs = np.array(lchs).T[2]\n",
    "    cs = np.array(lchs).T[1]\n",
    "    ls = np.array(lchs).T[0]\n",
    "    \n",
    "    return ls,cs,hs\n",
    "\n",
    "\n",
    "def cmap_legend(ax,cmap):\n",
    "    '''\n",
    "    plot a cmap colorbar\n",
    "    '''\n",
    "    p1 = ax.imshow(np.array([[1,1],[2,2]]),cmap=cmap,alpha=1)\n",
    "    cb = plt.colorbar(p1,orientation='horizontal')\n",
    "    cb.set_ticks([])\n",
    "    ax.set_visible(False)\n",
    "    \n",
    "    return ax\n",
    "\n",
    "def cmap_togray(cmap_l):\n",
    "    '''\n",
    "    convert to gry scale\n",
    "    '''\n",
    "    cmap_l_gray=[]\n",
    "    for c in cmap_l:\n",
    "        c2=np.dot([c[0],c[1],c[2]], [0.299, 0.587, 0.114])\n",
    "        cmap_l_gray.append([c2,c2,c2])\n",
    "\n",
    "    return cmap_l_gray\n",
    "\n",
    "\n",
    "def format_axes_hcl(ax,n,ylim,ylabel):\n",
    "    \n",
    "    ax.set_xticks(range(n))\n",
    "    ax.set_xticklabels('')\n",
    "    ax.set_xlim(-.5,n-.5)\n",
    "    ax.set_yticks([0,100])\n",
    "    ax.set_yticklabels('')\n",
    "    ax.set_ylim(0,ylim)\n",
    "    ax.grid(False)\n",
    "    #ax.annotate(ylabel, xy=(-.3,.5), ha='right', va='center',\n",
    "    #                xycoords='axes fraction',fontsize=12,color='.2')\n",
    "    ax.annotate(ylabel, xy=(-.051,1), ha='right', va='top',\n",
    "                    xycoords='axes fraction',fontsize=12,color='.2')\n",
    "\n",
    "\n",
    "def plot_hcl_mult(xoffs,yoffs,cmap,name):\n",
    "    \n",
    "    n = cmap.N\n",
    "    cmap_l=[cmap(k) for k in range(n)]\n",
    "    ls,cs,hs = cmap2hcl(cmap,n)\n",
    "    x=range(n)\n",
    "    w=.5\n",
    "    h=.15\n",
    "    dh=.02\n",
    "\n",
    "    ax1=plt.axes([xoffs,2*(h+dh)+h+.01,w,w])\n",
    "    cmap_legend(ax1,cmap)    \n",
    "\n",
    "    ax2=plt.axes([xoffs,2*(h+dh)+h-.03,w,w])\n",
    "    cmap_legend(ax2,ListedColormap(cmap_togray(cmap_l)))   \n",
    "\n",
    "    ax3=plt.axes([xoffs,2*(h+dh),w,h])\n",
    "    ax3.plot(x,ls,'.-',color='.2',lw=.5)\n",
    "    format_axes_hcl(ax3,n,100,'l')\n",
    "\n",
    "\n",
    "    ax=plt.axes([xoffs,(h+dh),w,h])\n",
    "    ax.plot(x,cs,'.-',color='.2',lw=.5)\n",
    "    format_axes_hcl(ax,n,100,'c')\n",
    "\n",
    "    ax=plt.axes([xoffs,0,w,h])\n",
    "    ax.plot(x,hs,'.-',color='.2',lw=.5)\n",
    "    format_axes_hcl(ax,n,360,'h')\n",
    "    \n",
    "    ax3.annotate(name, xy=(0,1.6), ha='left', va='bottom',\n",
    "                    xycoords='axes fraction',fontsize=fs,color='.2')"
   ]
  },
  {
   "cell_type": "code",
   "execution_count": 31,
   "metadata": {},
   "outputs": [
    {
     "data": {
      "image/png": "[encoded data removed]",
      "text/plain": [
       "<Figure size 360x360 with 7 Axes>"
      ]
     },
     "metadata": {
      "needs_background": "light"
     },
     "output_type": "display_data"
    }
   ],
   "source": [
    "n = 15\n",
    "plt.figure(figsize=[5,5])\n",
    "plot_hcl_mult(0,0,plt.get_cmap('turbo_r',n),'turbo')"
   ]
  },
  {
   "cell_type": "code",
   "execution_count": 32,
   "metadata": {},
   "outputs": [
    {
     "data": {
      "image/png": "[encoded data removed]",
      "text/plain": [
       "<Figure size 360x360 with 7 Axes>"
      ]
     },
     "metadata": {
      "needs_background": "light"
     },
     "output_type": "display_data"
    }
   ],
   "source": [
    "plt.figure(figsize=[5,5])\n",
    "plot_hcl_mult(0,0,cmap_rb_div1,'')\n"
   ]
  },
  {
   "cell_type": "code",
   "execution_count": null,
   "metadata": {},
   "outputs": [],
   "source": []
  },
  {
   "cell_type": "markdown",
   "metadata": {
    "tags": []
   },
   "source": [
    "# Using seaborn's cubehelix"
   ]
  },
  {
   "cell_type": "code",
   "execution_count": 33,
   "metadata": {},
   "outputs": [
    {
     "data": {
      "image/png": "[encoded data removed]",
      "text/plain": [
       "<Figure size 360x360 with 7 Axes>"
      ]
     },
     "metadata": {
      "needs_background": "light"
     },
     "output_type": "display_data"
    }
   ],
   "source": [
    "import seaborn as sns\n",
    "\n",
    "cmap_l=sns.cubehelix_palette(20, start=-.7, rot=3.1,hue=2,light=.5,dark=.7,as_cmap=False)[::-1]\n",
    "cmap=ListedColormap(cmap_l)\n",
    "\n",
    "plt.figure(figsize=[5,5])\n",
    "plot_hcl_mult(0,0,cmap,'husl')"
   ]
  },
  {
   "cell_type": "code",
   "execution_count": null,
   "metadata": {},
   "outputs": [],
   "source": []
  },
  {
   "cell_type": "markdown",
   "metadata": {
    "tags": []
   },
   "source": [
    "# Using Reto's colorspace"
   ]
  },
  {
   "cell_type": "code",
   "execution_count": 34,
   "metadata": {},
   "outputs": [],
   "source": [
    "n=15\n",
    "\n",
    "hex = sequential_hcl(h = [-220,20], c = [0, 90, 0], l = [95, 10], power = [1.5,1.5])(n)"
   ]
  },
  {
   "cell_type": "code",
   "execution_count": 35,
   "metadata": {},
   "outputs": [
    {
     "data": {
      "text/plain": [
       "<Axes:>"
      ]
     },
     "execution_count": 35,
     "metadata": {},
     "output_type": "execute_result"
    },
    {
     "data": {
      "image/png": "[encoded data removed]",
      "text/plain": [
       "<Figure size 720x720 with 2 Axes>"
      ]
     },
     "metadata": {
      "needs_background": "light"
     },
     "output_type": "display_data"
    }
   ],
   "source": [
    "cmap = ListedColormap(hex)\n",
    "plot_cmap(cmap)"
   ]
  },
  {
   "cell_type": "code",
   "execution_count": 36,
   "metadata": {},
   "outputs": [
    {
     "data": {
      "text/plain": [
       "<Axes:>"
      ]
     },
     "execution_count": 36,
     "metadata": {},
     "output_type": "execute_result"
    },
    {
     "data": {
      "image/png": "[encoded data removed]",
      "text/plain": [
       "<Figure size 720x720 with 2 Axes>"
      ]
     },
     "metadata": {
      "needs_background": "light"
     },
     "output_type": "display_data"
    }
   ],
   "source": [
    "n = 7\n",
    "cmap = ListedColormap(sequential_hcl(h = [-120,120], c = [90], l = [55], power = [1.5])(n))\n",
    "plot_cmap(cmap)"
   ]
  },
  {
   "cell_type": "code",
   "execution_count": 37,
   "metadata": {},
   "outputs": [
    {
     "data": {
      "text/plain": [
       "((0.0, 0.5568627450980392, 0.8588235294117647, 1.0),\n",
       " (0.8549019607843137, 0.33725490196078434, 0.47058823529411764, 1.0),\n",
       " (0.20784313725490197, 0.596078431372549, 0.0, 1.0))"
      ]
     },
     "execution_count": 37,
     "metadata": {},
     "output_type": "execute_result"
    }
   ],
   "source": [
    "cmap(0),cmap(3),cmap(6)"
   ]
  },
  {
   "cell_type": "code",
   "execution_count": 38,
   "metadata": {},
   "outputs": [],
   "source": [
    "#sequential_hcl?"
   ]
  },
  {
   "cell_type": "code",
   "execution_count": null,
   "metadata": {},
   "outputs": [],
   "source": []
  },
  {
   "cell_type": "markdown",
   "metadata": {
    "tags": []
   },
   "source": [
    "# from list"
   ]
  },
  {
   "cell_type": "code",
   "execution_count": 39,
   "metadata": {},
   "outputs": [],
   "source": [
    "cm_data = [[0.2081, 0.1663, 0.5292], [0.2116238095, 0.1897809524, 0.5776761905], \n",
    " [0.212252381, 0.2137714286, 0.6269714286], [0.2081, 0.2386, 0.6770857143], \n",
    " [0.1959047619, 0.2644571429, 0.7279], [0.1707285714, 0.2919380952, \n",
    "  0.779247619], [0.1252714286, 0.3242428571, 0.8302714286], \n",
    " [0.0591333333, 0.3598333333, 0.8683333333], [0.0116952381, 0.3875095238, \n",
    "  0.8819571429], [0.0059571429, 0.4086142857, 0.8828428571], \n",
    " [0.0165142857, 0.4266, 0.8786333333], [0.032852381, 0.4430428571, \n",
    "  0.8719571429], [0.0498142857, 0.4585714286, 0.8640571429], \n",
    " [0.0629333333, 0.4736904762, 0.8554380952], [0.0722666667, 0.4886666667, \n",
    "  0.8467], [0.0779428571, 0.5039857143, 0.8383714286], \n",
    " [0.079347619, 0.5200238095, 0.8311809524], [0.0749428571, 0.5375428571, \n",
    "  0.8262714286], [0.0640571429, 0.5569857143, 0.8239571429], \n",
    " [0.0487714286, 0.5772238095, 0.8228285714], [0.0343428571, 0.5965809524, \n",
    "  0.819852381], [0.0265, 0.6137, 0.8135], [0.0238904762, 0.6286619048, \n",
    "  0.8037619048], [0.0230904762, 0.6417857143, 0.7912666667], \n",
    " [0.0227714286, 0.6534857143, 0.7767571429], [0.0266619048, 0.6641952381, \n",
    "  0.7607190476], [0.0383714286, 0.6742714286, 0.743552381], \n",
    " [0.0589714286, 0.6837571429, 0.7253857143], \n",
    " [0.0843, 0.6928333333, 0.7061666667], [0.1132952381, 0.7015, 0.6858571429], \n",
    " [0.1452714286, 0.7097571429, 0.6646285714], [0.1801333333, 0.7176571429, \n",
    "  0.6424333333], [0.2178285714, 0.7250428571, 0.6192619048], \n",
    " [0.2586428571, 0.7317142857, 0.5954285714], [0.3021714286, 0.7376047619, \n",
    "  0.5711857143], [0.3481666667, 0.7424333333, 0.5472666667], \n",
    " [0.3952571429, 0.7459, 0.5244428571], [0.4420095238, 0.7480809524, \n",
    "  0.5033142857], [0.4871238095, 0.7490619048, 0.4839761905], \n",
    " [0.5300285714, 0.7491142857, 0.4661142857], [0.5708571429, 0.7485190476, \n",
    "  0.4493904762], [0.609852381, 0.7473142857, 0.4336857143], \n",
    " [0.6473, 0.7456, 0.4188], [0.6834190476, 0.7434761905, 0.4044333333], \n",
    " [0.7184095238, 0.7411333333, 0.3904761905], \n",
    " [0.7524857143, 0.7384, 0.3768142857], [0.7858428571, 0.7355666667, \n",
    "  0.3632714286], [0.8185047619, 0.7327333333, 0.3497904762], \n",
    " [0.8506571429, 0.7299, 0.3360285714], [0.8824333333, 0.7274333333, 0.3217], \n",
    " [0.9139333333, 0.7257857143, 0.3062761905], [0.9449571429, 0.7261142857, \n",
    "  0.2886428571], [0.9738952381, 0.7313952381, 0.266647619], \n",
    " [0.9937714286, 0.7454571429, 0.240347619], [0.9990428571, 0.7653142857, \n",
    "  0.2164142857], [0.9955333333, 0.7860571429, 0.196652381], \n",
    " [0.988, 0.8066, 0.1793666667], [0.9788571429, 0.8271428571, 0.1633142857], \n",
    " [0.9697, 0.8481380952, 0.147452381], [0.9625857143, 0.8705142857, 0.1309], \n",
    " [0.9588714286, 0.8949, 0.1132428571], [0.9598238095, 0.9218333333, \n",
    "  0.0948380952], [0.9661, 0.9514428571, 0.0755333333], \n",
    " [0.9763, 0.9831, 0.0538]]\n"
   ]
  },
  {
   "cell_type": "code",
   "execution_count": 40,
   "metadata": {},
   "outputs": [
    {
     "data": {
      "text/plain": [
       "<Axes:>"
      ]
     },
     "execution_count": 40,
     "metadata": {},
     "output_type": "execute_result"
    },
    {
     "data": {
      "image/png": "[encoded data removed]",
      "text/plain": [
       "<Figure size 720x720 with 2 Axes>"
      ]
     },
     "metadata": {
      "needs_background": "light"
     },
     "output_type": "display_data"
    }
   ],
   "source": [
    "parula_map = LinearSegmentedColormap.from_list('parula', cm_data)\n",
    "cmap_p = parula_map\n",
    "\n",
    "plot_cmap(cmap_p)\n",
    "#plt.savefig(projectpath+'cmap_parula.png',bbox_inches='tight',dpi=300)"
   ]
  },
  {
   "cell_type": "code",
   "execution_count": 41,
   "metadata": {},
   "outputs": [
    {
     "data": {
      "text/plain": [
       "<Axes:>"
      ]
     },
     "execution_count": 41,
     "metadata": {},
     "output_type": "execute_result"
    },
    {
     "data": {
      "image/png": "[encoded data removed]",
      "text/plain": [
       "<Figure size 720x720 with 2 Axes>"
      ]
     },
     "metadata": {
      "needs_background": "light"
     },
     "output_type": "display_data"
    }
   ],
   "source": [
    "cmap_l = (\"#5D0004\",\"#6B0033\",\"#750051\",\"#7B0A69\",\"#7E317F\",\"#7F4C91\",\"#7E64A1\",\"#7E7AAF\",\"#8090BB\",\"#85A4C5\",\"#90B8CE\",\"#A0CAD8\",\"#B3DDE2\",\"#CAEEED\",\"#E3FFFA\")\n",
    "cmap = ListedColormap(cmap_l[::-1])\n",
    "plot_cmap(cmap)"
   ]
  },
  {
   "cell_type": "code",
   "execution_count": 42,
   "metadata": {},
   "outputs": [
    {
     "data": {
      "text/plain": [
       "<Axes:>"
      ]
     },
     "execution_count": 42,
     "metadata": {},
     "output_type": "execute_result"
    },
    {
     "data": {
      "image/png": "[encoded data removed]",
      "text/plain": [
       "<Figure size 720x720 with 2 Axes>"
      ]
     },
     "metadata": {
      "needs_background": "light"
     },
     "output_type": "display_data"
    }
   ],
   "source": [
    "cmap=ListedColormap([\"#DBFFFF\",\"#B3F9FE\",\"#92F1DF\",\"#89E6B6\",\"#99D786\",\"#B4C353\",\"#CDAC2B\",\"#E0913D\",\"#EB736A\",\"#ED5096\"])\n",
    "cmap.set_bad((.22,.22,.27))\n",
    "plot_cmap(cmap)"
   ]
  },
  {
   "cell_type": "code",
   "execution_count": 43,
   "metadata": {},
   "outputs": [
    {
     "data": {
      "text/plain": [
       "<Axes:>"
      ]
     },
     "execution_count": 43,
     "metadata": {},
     "output_type": "execute_result"
    },
    {
     "data": {
      "image/png": "[encoded data removed]",
      "text/plain": [
       "<Figure size 720x720 with 2 Axes>"
      ]
     },
     "metadata": {
      "needs_background": "light"
     },
     "output_type": "display_data"
    }
   ],
   "source": [
    "cmap = LinearSegmentedColormap.from_list('mycmap', ['deepskyblue','blue','brown' ,'orangered'],20)\n",
    "plot_cmap(cmap)"
   ]
  },
  {
   "cell_type": "markdown",
   "metadata": {
    "tags": []
   },
   "source": [
    "# 2D cmaps"
   ]
  },
  {
   "cell_type": "code",
   "execution_count": 44,
   "metadata": {},
   "outputs": [],
   "source": [
    "def twod_cmap(p):\n",
    "    Nx=20\n",
    "    Ny=20\n",
    "    c_xmin='dodgerblue'\n",
    "    c_xmax='orangered'\n",
    "    #c_xmax='red'\n",
    "\n",
    "    #c_ymin='lightgreen'\n",
    "    c_ymin='cyan'\n",
    "    #c_ymax='yellow'\n",
    "    c_ymax='deeppink'\n",
    "    #c_ymax='rose'\n",
    "\n",
    "    \n",
    "\n",
    "    cmap1 = LinearSegmentedColormap.from_list('mycmap', [c_xmin,c_xmax],Nx)\n",
    "    cmap2 = LinearSegmentedColormap.from_list('mycmap', [c_xmin,c_ymin],Ny)\n",
    "    cmap3 = LinearSegmentedColormap.from_list('mycmap', [c_xmax,c_ymax],Ny)\n",
    "    cmap4 = LinearSegmentedColormap.from_list('mycmap', [c_ymin,c_ymax],Nx)\n",
    "\n",
    "    if p:\n",
    "        ax=plt.axes([0,0,.7,.7])\n",
    "        ax.set_xticklabels('')\n",
    "        ax.set_yticklabels('')\n",
    "        for j in range(Nx):\n",
    "            for i in range(Ny):\n",
    "                cmap_i=LinearSegmentedColormap.from_list('mycmap', [cmap2(j),cmap3(j)],Ny)\n",
    "                ax.plot(i,j,'s',c=cmap_i(i),ms=20)\n",
    "                ax.plot(i,0,'s',c=cmap1(i),ms=20)\n",
    "                ax.plot(0,i,'s',c=cmap2(i),ms=20)\n",
    "                ax.plot(Nx,i,'s',c=cmap3(i),ms=20)\n",
    "                ax.plot(i,Ny,'s',c=cmap4(i),ms=20)\n",
    "                #plt.plot(i,20,'s',c=cmap_i(i),ms=20)\n",
    "    \n",
    "    cmap=[]\n",
    "    for j in range(Nx):\n",
    "        cmap_i=LinearSegmentedColormap.from_list('mycmap', [cmap2(j),cmap3(j)],Ny)\n",
    "        for k in range(Ny):\n",
    "            cmap.append(cmap_i(k))\n",
    "    \n",
    "    cmap_f = ListedColormap(cmap, name='my_name')\n",
    "            \n",
    "    return cmap_f"
   ]
  },
  {
   "cell_type": "code",
   "execution_count": 45,
   "metadata": {},
   "outputs": [
    {
     "data": {
      "image/png": "[encoded data removed]",
      "text/plain": [
       "<Figure size 432x288 with 1 Axes>"
      ]
     },
     "metadata": {
      "needs_background": "light"
     },
     "output_type": "display_data"
    }
   ],
   "source": [
    "cmap_2d = twod_cmap(True)"
   ]
  },
  {
   "cell_type": "code",
   "execution_count": 46,
   "metadata": {},
   "outputs": [
    {
     "data": {
      "image/png": "[encoded data removed]",
      "text/plain": [
       "<Figure size 1368x14.4 with 1 Axes>"
      ]
     },
     "metadata": {
      "needs_background": "light"
     },
     "output_type": "display_data"
    }
   ],
   "source": [
    "plt.figure(figsize=[19,.2])\n",
    "for i in range(400):\n",
    "    plt.plot(i,0,'s',c=cmap_2d(i),ms=20)"
   ]
  },
  {
   "cell_type": "code",
   "execution_count": null,
   "metadata": {},
   "outputs": [],
   "source": []
  },
  {
   "cell_type": "code",
   "execution_count": null,
   "metadata": {},
   "outputs": [],
   "source": []
  },
  {
   "cell_type": "code",
   "execution_count": null,
   "metadata": {},
   "outputs": [],
   "source": []
  },
  {
   "cell_type": "code",
   "execution_count": null,
   "metadata": {},
   "outputs": [],
   "source": []
  }
 ],
 "metadata": {
  "kernelspec": {
   "display_name": "Python 3 (ipykernel)",
   "language": "python",
   "name": "python3"
  },
  "language_info": {
   "codemirror_mode": {
    "name": "ipython",
    "version": 3
   },
   "file_extension": ".py",
   "mimetype": "text/x-python",
   "name": "python",
   "nbconvert_exporter": "python",
   "pygments_lexer": "ipython3",
   "version": "3.7.4"
  },
  "varInspector": {
   "cols": {
    "lenName": 16,
    "lenType": 16,
    "lenVar": 40
   },
   "kernels_config": {
    "python": {
     "delete_cmd_postfix": "",
     "delete_cmd_prefix": "del ",
     "library": "var_list.py",
     "varRefreshCmd": "print(var_dic_list())"
    },
    "r": {
     "delete_cmd_postfix": ") ",
     "delete_cmd_prefix": "rm(",
     "library": "var_list.r",
     "varRefreshCmd": "cat(var_dic_list()) "
    }
   },
   "types_to_exclude": [
    "module",
    "function",
    "builtin_function_or_method",
    "instance",
    "_Feature"
   ],
   "window_display": false
  }
 },
 "nbformat": 4,
 "nbformat_minor": 4
}
