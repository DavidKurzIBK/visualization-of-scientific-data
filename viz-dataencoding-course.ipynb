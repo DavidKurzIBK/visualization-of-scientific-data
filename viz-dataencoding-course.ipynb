{
 "cells": [
  {
   "cell_type": "code",
   "execution_count": 1,
   "metadata": {
    "ExecuteTime": {
     "end_time": "2020-03-24T17:17:58.415691Z",
     "start_time": "2020-03-24T17:17:51.703600Z"
    }
   },
   "outputs": [],
   "source": [
    "%matplotlib inline\n",
    "import matplotlib.pyplot as plt\n",
    "import pandas as pd\n",
    "import numpy as np"
   ]
  },
  {
   "cell_type": "code",
   "execution_count": 2,
   "metadata": {
    "ExecuteTime": {
     "end_time": "2020-03-24T17:18:39.899714Z",
     "start_time": "2020-03-24T17:18:39.889781Z"
    }
   },
   "outputs": [],
   "source": [
    "# set general figure style\n",
    "\n",
    "# set grid/axis color\n",
    "gacolor='.5'\n",
    "\n",
    "plt.rcParams['axes.facecolor'] = '1'\n",
    "plt.rcParams['axes.linewidth'] = .5\n",
    "plt.rcParams['axes.edgecolor'] = gacolor\n",
    "plt.rcParams['axes.axisbelow'] = True\n",
    "plt.rcParams['axes.labelcolor'] = gacolor\n",
    "\n",
    "\n",
    "plt.rcParams['xtick.direction'] = 'out'\n",
    "plt.rcParams['ytick.direction'] = 'out'\n",
    "\n",
    "plt.rcParams['xtick.major.size'] = 0\n",
    "plt.rcParams['ytick.major.size'] = 0\n",
    "\n",
    "plt.rcParams['xtick.color'] = gacolor\n",
    "plt.rcParams['ytick.color'] = gacolor\n",
    "\n",
    "plt.rcParams['grid.color'] = gacolor\n",
    "plt.rcParams['grid.linewidth'] = .4\n",
    "plt.rcParams['grid.linestyle'] = '-'\n",
    "\n",
    "plt.rcParams['legend.frameon'] = False\n",
    "\n",
    "#fontsize\n",
    "fs=11"
   ]
  },
  {
   "cell_type": "code",
   "execution_count": 3,
   "metadata": {},
   "outputs": [],
   "source": [
    "#plt.rcParams"
   ]
  },
  {
   "cell_type": "markdown",
   "metadata": {},
   "source": [
    "# 1D timeseries"
   ]
  },
  {
   "cell_type": "code",
   "execution_count": 4,
   "metadata": {
    "ExecuteTime": {
     "end_time": "2020-03-24T17:58:39.715336Z",
     "start_time": "2020-03-24T17:58:39.707361Z"
    }
   },
   "outputs": [],
   "source": [
    "# dummy data for time series\n",
    "t=range(18)\n",
    "y=np.array([3.5,5,2,7,8,3,2,3,6,4,3,7,1,2.5,2,3,2,1])"
   ]
  },
  {
   "cell_type": "code",
   "execution_count": 5,
   "metadata": {
    "ExecuteTime": {
     "end_time": "2020-03-24T18:04:45.012980Z",
     "start_time": "2020-03-24T18:04:44.984059Z"
    }
   },
   "outputs": [],
   "source": [
    "def linedotplot(ax):\n",
    "    '''\n",
    "    connected dot plot\n",
    "    '''\n",
    "    ax.grid(zorder=20)\n",
    "    ax.plot(t,y,'.-',c=(.2,.2,.2),lw=1,ms=14)\n",
    "    ax.set_xticks(np.arange(0,20,2))\n",
    "    ax.set_yticks(np.arange(0,10,2))\n",
    "    ax.set_xlim(-.3,17.2)\n",
    "    ax.set_ylim(0,9)\n",
    "    ax.set_xlabel('day',fontsize=fs)#,labelpad=1.1)\n",
    "    ax.set_ylabel('value',fontsize=fs)#,labelpad=1.1)\n",
    "\n",
    "    ax.tick_params(labelsize=12)\n",
    "    \n",
    "def barplot(ax):\n",
    "    \n",
    "    ax.grid(zorder=20)\n",
    "    ax.bar(t,y,color=(.2,.2,.2),lw=0,align='center',width=.95)\n",
    "    ax.set_xticks(np.arange(0,20,5))\n",
    "    ax.set_yticks(np.arange(0,10,2))\n",
    "    ax.set_xlim(-.3,17.2)\n",
    "    ax.set_ylim(0,9)\n",
    "    ax.set_xlabel('day',fontsize=fs)#,labelpad=1.1)\n",
    "    ax.set_ylabel('value',fontsize=fs)#,labelpad=1.1)\n",
    "\n",
    "    ax.tick_params(labelsize=12)\n",
    "    \n",
    "\n",
    "def matrix1dplot(ax):\n",
    "    \n",
    "    cmap=plt.get_cmap('viridis',9)\n",
    "\n",
    "    pl=ax.imshow([y],cmap=cmap,interpolation='None',vmin=0,vmax=9)\n",
    "\n",
    "    plt.colorbar(pl,orientation='horizontal',fraction=0.042, pad=0.2,label='value')\n",
    "    #plt.colorbar(pl,orientation='vertical',fraction=0.046, pad=0.2)\n",
    "\n",
    "    ax.grid(False)\n",
    "    ax.set_xticks(np.arange(0,18))\n",
    "    ax.set_yticklabels('')\n",
    "    ax.set_xlabel('day',fontsize=fs)#,labelpad=1.1)\n",
    "    \n",
    "def areaplot(ax):\n",
    "    \n",
    "    c='.2' #color\n",
    "    \n",
    "    ax.scatter(t,np.ones(len(t)),s=30*y,color=c,lw=0)\n",
    "\n",
    "    ax.set_xticks(np.arange(0,18))\n",
    "    ax.set_yticklabels('')\n",
    "    ax.set_xlim(-.3,17.2)\n",
    "    ax.set_ylim(0,2)\n",
    "    ax.grid(False)\n",
    "    \n",
    "    ax.set_xlabel('day',fontsize=fs)#,labelpad=1.1)\n",
    "\n",
    "    #manual legend from dummy data points ;)\n",
    "    pl1=ax.plot([0],[10],'.',ms=30*.37,color=c,lw=0)\n",
    "    pl2=ax.plot([0],[10],'.',ms=30*1,color=c,lw=0)\n",
    "\n",
    "    ax.legend(pl1+pl2,['1','9'],ncol=4,bbox_to_anchor=(1,1.9), scatterpoints = 1,handletextpad=0.2)\n",
    "\n",
    "def quiverplot(ax,ax2):\n",
    "    '''\n",
    "    encode in angle\n",
    "    '''\n",
    "    ax.quiver(np.cos(np.pi/2*y/10.),np.sin(np.pi/2*y/10.),width=0.003,headwidth=6,pivot='middle',color='.2')#,scale=.001)#, units='width')\n",
    "\n",
    "    ax.grid(False)\n",
    "    ax.set_xticks(np.arange(0,18))\n",
    "    ax.set_xlim(-1,18)\n",
    "\n",
    "    ax.set_yticklabels('')\n",
    "\n",
    "    ax.set_ylim(-4,4)\n",
    "    ax.set_xlabel('day',fontsize=fs)#,labelpad=1.1)\n",
    "\n",
    "    #legend\n",
    "    \n",
    "    ax2.arrow(0, 0, 0, .7, head_width=0.15, head_length=.2, fc='.2', ec='.2')\n",
    "    ax2.arrow(0, 0 ,.5, .5, head_width=0.15, head_length=.2, fc='.2', ec='.2')\n",
    "    ax2.arrow(0, 0, .7, 0, head_width=0.15, head_length=.2, fc='.2', ec='.2')\n",
    "\n",
    "    ax2.set_ylim(-.1,1);ax2.set_xlim(-.1,1)\n",
    "    ax2.annotate('0', xy=(1.2,.34), ha='center', va='top',\n",
    "                xycoords='axes fraction',fontsize=fs,color='.2')\n",
    "    ax2.annotate('5', xy=(.9,1.2), ha='center', va='top',\n",
    "                xycoords='axes fraction',fontsize=fs,color='.2')\n",
    "    ax2.annotate('10', xy=(.1,1.5), ha='center', va='top',\n",
    "                xycoords='axes fraction',fontsize=fs,color='.2')\n",
    "\n",
    "    ax2.grid(False)\n",
    "    plt.axis('off')"
   ]
  },
  {
   "cell_type": "code",
   "execution_count": 6,
   "metadata": {},
   "outputs": [
    {
     "data": {
      "image/png": "[encoded data removed]",
      "text/plain": [
       "<Figure size 360x216 with 7 Axes>"
      ]
     },
     "metadata": {
      "needs_background": "light"
     },
     "output_type": "display_data"
    }
   ],
   "source": [
    "plt.figure(figsize=[5,3])\n",
    "\n",
    "ax1=plt.axes([0,2.95,1,.5])\n",
    "linedotplot(ax1)\n",
    "\n",
    "ax2=plt.axes([0,2.1,1,.5])\n",
    "barplot(ax2)\n",
    "\n",
    "ax3=plt.axes([0,1.3,1,1])\n",
    "matrix1dplot(ax3)\n",
    "\n",
    "ax4=plt.axes([0,.7,1,.2])\n",
    "areaplot(ax4)\n",
    "\n",
    "ax5=plt.axes([0,0,1,.2])\n",
    "ax5b=plt.axes([.89,.25,.075,.14])\n",
    "quiverplot(ax5,ax5b)\n",
    "\n",
    "\n",
    "for ax,l in zip([ax1,ax2,ax3,ax4,ax5],['a)','b)','c)','d)','e)']):\n",
    "    ax.annotate(l, xy=(-.1,1.1), ha='right', va='top',\n",
    "                xycoords='axes fraction',fontsize=fs+1,color='.1')"
   ]
  },
  {
   "cell_type": "code",
   "execution_count": 7,
   "metadata": {
    "ExecuteTime": {
     "end_time": "2020-03-24T18:05:53.143443Z",
     "start_time": "2020-03-24T18:05:52.081252Z"
    }
   },
   "outputs": [
    {
     "data": {
      "text/plain": [
       "Text(0, 1.8, 'b)')"
      ]
     },
     "execution_count": 7,
     "metadata": {},
     "output_type": "execute_result"
    },
    {
     "data": {
      "image/png": "[encoded data removed]",
      "text/plain": [
       "<Figure size 302.4x144 with 3 Axes>"
      ]
     },
     "metadata": {
      "needs_background": "light"
     },
     "output_type": "display_data"
    }
   ],
   "source": [
    "plt.figure(figsize=[4.2,2])\n",
    "\n",
    "ax1=plt.axes([0,0,1,.5])\n",
    "linedotplot(ax1)\n",
    "\n",
    "ax2=plt.axes([1.2,.07,1,1])\n",
    "matrix1dplot(ax2)\n",
    "\n",
    "ax1.annotate('a)',xy=(0,1.17),xycoords='axes fraction',fontsize=12)\n",
    "ax2.annotate('b)',xy=(0,1.8),xycoords='axes fraction',fontsize=12)"
   ]
  },
  {
   "cell_type": "markdown",
   "metadata": {},
   "source": [
    "# 2D time series"
   ]
  },
  {
   "cell_type": "code",
   "execution_count": 8,
   "metadata": {},
   "outputs": [],
   "source": [
    "# another dummy data set (with same t)\n",
    "y2=np.array([3,4,3,8,4,3,1,2,5,2,3,5,2,3,4,3,1,4])\n",
    "#y3=np.array([4,2,3,3,4,2,3,4,3,4,5,3,4,4,5,2,3,6])"
   ]
  },
  {
   "cell_type": "code",
   "execution_count": 9,
   "metadata": {
    "ExecuteTime": {
     "end_time": "2020-03-24T17:19:08.523993Z",
     "start_time": "2020-03-24T17:19:08.518064Z"
    }
   },
   "outputs": [],
   "source": [
    "c1='dodgerblue'#(.2,.2,.2)\n",
    "c2='salmon'#(.6,.6,.6)\n",
    "c3='lightblue'#'goldenrod'#(.6,.6,.6)"
   ]
  },
  {
   "cell_type": "code",
   "execution_count": 10,
   "metadata": {
    "ExecuteTime": {
     "end_time": "2020-03-24T17:19:11.638940Z",
     "start_time": "2020-03-24T17:19:11.632955Z"
    }
   },
   "outputs": [],
   "source": [
    "plt.rcParams['legend.markerscale'] = 1"
   ]
  },
  {
   "cell_type": "code",
   "execution_count": null,
   "metadata": {},
   "outputs": [],
   "source": []
  },
  {
   "cell_type": "code",
   "execution_count": 11,
   "metadata": {},
   "outputs": [],
   "source": [
    "def linedotplot2(ax1):\n",
    "    '''\n",
    "    \n",
    "    '''\n",
    "    ax1.plot(t,y,'.-',c=c1,lw=.5,ms=10)\n",
    "    ax1.plot(t,y2,'.-',c=c2,lw=.5,ms=10)\n",
    "    #ax1.plot(t,y3,'.-',c=c3,lw=.5,ms=10)\n",
    "\n",
    "    ax1.set_yticks([0,5,10])\n",
    "    ax1.set_xlim(-.3,17.2)\n",
    "    ax1.tick_params(labelsize=fs)\n",
    "    ax1.set_xlabel('day',fontsize=fs)\n",
    "    ax1.set_ylabel('value',fontsize=fs)\n",
    "\n",
    "    ax1.legend(['x1','x2'],ncol=2,bbox_to_anchor=(1,1.35))\n",
    "    ax1.grid(True)\n",
    "    \n",
    "def twinbarplot(ax1):\n",
    "    ax1.grid(zorder=20)\n",
    "    ax1.bar(t,y,color=c1,lw=0,align='edge',width=.3)\n",
    "    ax1.bar(t,y2,color=c2,lw=0,align='edge',width=-.3,alpha=1)\n",
    "    #ax1.bar(t,y3,color=c3,lw=0,align='center',width=-.2,alpha=1)\n",
    "\n",
    "    ax1.set_yticks([0,5,10])\n",
    "    ax1.set_xlim(-.3,17.2)\n",
    "    #ax1.set_xticklabels('')\n",
    "    ax1.set_xlabel('day',fontsize=fs)#,labelpad=1.1)\n",
    "    ax1.set_ylabel('value',fontsize=fs)#,labelpad=1.1)\n",
    "\n",
    "    ax1.tick_params(labelsize=12)\n",
    "    ax1.legend(['x1','x2'],ncol=2,bbox_to_anchor=(1,1.35))#,markerscale=0,labelspacing=40)\n",
    "\n",
    "def barplot2(ax1,ax2):\n",
    "\n",
    "    ax1.bar(t,y,color=(.2,.2,.2),lw=0,align='center',width=.95)\n",
    "    ax1.set_yticks([0,5,10])\n",
    "    ax1.set_xlim(-.3,17.2)\n",
    "    ax1.set_xticklabels('')\n",
    "    #ax1.set_ylabel('x1',fontsize=fs)\n",
    "    ax1.tick_params(labelsize=12)\n",
    "    ax1.grid(True,zorder=20)\n",
    "\n",
    "    ax2.bar(t,y2,color=(.2,.2,.2),lw=0,align='center',width=.95,alpha=1)\n",
    "    ax2.set_yticks([0,5]) \n",
    "    ax2.set_xlim(-.3,17.2)\n",
    "    ax2.set_ylim(0,10)\n",
    "    ax2.set_xlabel('day',fontsize=fs)\n",
    "    #ax2.set_ylabel('value',fontsize=fs,xy=(1,1))\n",
    "    ax2.annotate('value', xy=(-.09,1.2), ha='center', va='top',\n",
    "                xycoords='axes fraction',fontsize=fs,color=gacolor,rotation=90)\n",
    "\n",
    "    ax1.annotate('x1', xy=(0.04,.95), ha='center', va='top',\n",
    "                xycoords='axes fraction',fontsize=fs,color=gacolor)\n",
    "    ax2.annotate('x2', xy=(0.04,.95), ha='center', va='top',\n",
    "                xycoords='axes fraction',fontsize=fs,color=gacolor)\n",
    "    ax2.tick_params(labelsize=12)\n",
    "    ax2.grid(True,zorder=20)\n",
    "    \n",
    "def barplot2_mirr(ax1,ax2):\n",
    "    \n",
    "    ax1.bar(t,y,color=(.2,.2,.2),lw=0,align='center',width=.95)\n",
    "\n",
    "    ax1.set_yticks([0,5,10])\n",
    "    ax1.set_xlim(-.3,17.2)\n",
    "    ax1.set_ylim(0,10)\n",
    "    ax1.set_ylabel('x1',fontsize=fs)\n",
    "    ax1.tick_params(labelsize=12)\n",
    "    ax1.set_xticklabels('')\n",
    "    ax1.grid(False)\n",
    "\n",
    "    #ax2=plt.axes([0,0,1,.5])\n",
    "    ax2.bar(t,y2,color=(.2,.2,.2),lw=0,align='center',width=.95,alpha=1)\n",
    "    ax2.set_xlim(-.3,17.2)\n",
    "    ax2.set_ylim(10,0)\n",
    "\n",
    "    ax2.set_yticks([5,10])\n",
    "    ax2.set_xlabel('day',fontsize=fs)\n",
    "    ax2.set_ylabel('x2',fontsize=fs)\n",
    "\n",
    "    ax2.tick_params(labelsize=12)\n",
    "    ax2.grid(False)\n",
    "    \n",
    "def barplot2_mirr_v(ax1,ax2):\n",
    "    \n",
    "    ax1.grid(zorder=20)\n",
    "    ax1.barh(t,y,color=(.2,.2,.2),lw=0,align='center',height=.90)\n",
    "\n",
    "    ax1.set_xticks([0,5,10])\n",
    "    ax1.set_ylim(-.3,17.2)\n",
    "    ax1.set_xlim(10,0)\n",
    "    \n",
    "    ax1.set_ylabel('day',fontsize=fs)\n",
    "    ax1.set_xlabel('x1',fontsize=fs)\n",
    "    \n",
    "    ax1.tick_params(labelsize=12)\n",
    "    ax1.grid(False)\n",
    "\n",
    "    #ax2=plt.axes([0,0,.4,1])\n",
    "    ax2.barh(t,y2,color=(.2,.2,.2),lw=0,align='center',height=.90,alpha=1)\n",
    "    ax2.set_ylim(-.3,17.2)\n",
    "    ax2.set_xticks([5,10])\n",
    "    ax2.set_xlim(0,10)\n",
    "    ax2.set_yticklabels('')\n",
    "    ax2.set_xlabel('x2',fontsize=fs)\n",
    "        \n",
    "    ax2.tick_params(labelsize=12)\n",
    "    ax2.grid(False)\n",
    "    \n",
    "def scatterplot(ax1):\n",
    "    \n",
    "    ax1.grid(zorder=20)\n",
    "\n",
    "    ax1.plot([0,10],[0,10],'-',c='.7',lw=.5,zorder=0)\n",
    "\n",
    "    cmap=plt.get_cmap('viridis',22)\n",
    "\n",
    "    #ax1.plot(y,y2,'.-',ms=2,lw=1)\n",
    "    pl=ax1.scatter(y,y2,marker='.',s=120,c=t,lw=0,cmap=cmap,vmin=0,vmax=18)\n",
    "\n",
    "    #cb=plt.colorbar(pl,label='day')\n",
    "    #ax1.set_yticks([0,5,10])\n",
    "    ax1.set_xlim(0,10)\n",
    "    ax1.set_ylim(0,10)\n",
    "\n",
    "    #ax1.set_xticklabels('')\n",
    "    ax1.tick_params(labelsize=fs)\n",
    "    ax1.set_xlabel('x1',fontsize=fs)\n",
    "    ax1.set_ylabel('x2',fontsize=fs)\n",
    "    \n",
    "def slopeplot(ax1):\n",
    "    \n",
    "    cmap=plt.get_cmap('viridis',18)\n",
    "\n",
    "    k=0\n",
    "    for x in t:\n",
    "        ax1.plot([0,1],[y[k],y2[k]],'.-',c=cmap(k),lw=1)\n",
    "        k+=1\n",
    "\n",
    "    #ax1.set_yticks([0,5,10])\n",
    "    ax1.set_xlim(-.2,1.2)\n",
    "    ax1.set_ylim(0,9)\n",
    "\n",
    "    ax1.set_xticklabels('')\n",
    "    ax1.tick_params(labelsize=fs)\n",
    "    #ax1.set_xlabel('a',fontsize=fs)\n",
    "    ax1.set_ylabel('value',fontsize=fs)\n",
    "\n",
    "    ax1.annotate('x1', xy=(0.15,-0.02), ha='center', va='top',\n",
    "                xycoords='axes fraction',fontsize=fs,color=gacolor)\n",
    "    ax1.annotate('x2', xy=(0.82,-0.02), ha='center', va='top',\n",
    "                xycoords='axes fraction',fontsize=fs,color=gacolor)\n",
    "\n",
    "    ax1.grid(False)#,axis='x')\n",
    "    \n",
    "def matrixplot(ax,cmap):\n",
    "    \n",
    "    pl=ax.imshow([y,y2],cmap=cmap,interpolation='None',vmin=0,vmax=9)\n",
    "\n",
    "    cb=plt.colorbar(pl,orientation='horizontal',fraction=0.042, pad=0.07)\n",
    "    ax.set_xticklabels('')\n",
    "    ax.set_yticklabels('')\n",
    "    cb.ax.set_xticklabels('')\n",
    "    ax.grid(False)"
   ]
  },
  {
   "cell_type": "code",
   "execution_count": null,
   "metadata": {},
   "outputs": [],
   "source": []
  },
  {
   "cell_type": "code",
   "execution_count": 12,
   "metadata": {},
   "outputs": [
    {
     "data": {
      "image/png": "[encoded data removed]",
      "text/plain": [
       "<Figure size 360x144 with 12 Axes>"
      ]
     },
     "metadata": {
      "needs_background": "light"
     },
     "output_type": "display_data"
    }
   ],
   "source": [
    "plt.figure(figsize=[5,2])\n",
    "\n",
    "ax1=plt.axes([0,0,1,.5])\n",
    "linedotplot2(ax1)\n",
    "\n",
    "ax2=plt.axes([0,-.9,1,.5])\n",
    "twinbarplot(ax2)\n",
    "\n",
    "offs=.6\n",
    "ax3=plt.axes([0,-1.7,1,.5])\n",
    "ax3b=plt.axes([0,-1.7-offs,1,.5])\n",
    "barplot2(ax3,ax3b)\n",
    "\n",
    "offs=.04\n",
    "h=.3\n",
    "w4=.45\n",
    "ax4=plt.axes([0,-3.3+h+offs,w4,h])\n",
    "ax4b=plt.axes([0,-3.3,w4,h])\n",
    "barplot2_mirr(ax4,ax4b)\n",
    "\n",
    "xoffs=.01\n",
    "w5=.19\n",
    "ax5=plt.axes([w4+.16,-3.3,w5,2*h+offs])\n",
    "ax5b=plt.axes([w4+.16+w5+xoffs,-3.3,w5,2*h+offs])\n",
    "barplot2_mirr_v(ax5,ax5b)\n",
    "\n",
    "w6=.55\n",
    "ax6=plt.axes([0,-4.6,w6,.9])\n",
    "scatterplot(ax6)\n",
    "\n",
    "w7=.3\n",
    "ax7=plt.axes([.7,-4.6,w7,.9])\n",
    "slopeplot(ax7)\n",
    "\n",
    "ax8=plt.axes([0,-5.4,1,1])\n",
    "cmap=plt.get_cmap('viridis',9)\n",
    "matrixplot(ax8,cmap)\n",
    "\n",
    "\n",
    "for ax,l,w in zip([ax1,ax2,ax3,ax4,ax5,ax6,ax7,ax8],['a)','b)','c)','d)','e)','f)','g)','h)'],[1,1,1,w4,w5,w6,w7,1]):\n",
    "    ax.annotate(l, xy=(-.07/w,1.1), ha='right', va='top',\n",
    "                xycoords='axes fraction',fontsize=fs+1,color='.1')"
   ]
  },
  {
   "cell_type": "code",
   "execution_count": null,
   "metadata": {},
   "outputs": [],
   "source": []
  },
  {
   "cell_type": "markdown",
   "metadata": {},
   "source": [
    "# other tests / devel"
   ]
  },
  {
   "cell_type": "code",
   "execution_count": 16,
   "metadata": {},
   "outputs": [
    {
     "data": {
      "text/plain": [
       "array([1. , 1. , 2. , 2. , 2. , 2. , 2.5, 3. , 3. , 3. , 3. , 3.5, 4. ,\n",
       "       5. , 6. , 7. , 7. , 8. ])"
      ]
     },
     "execution_count": 16,
     "metadata": {},
     "output_type": "execute_result"
    }
   ],
   "source": [
    "# order\n",
    "ind=np.argsort(y)\n",
    "y[ind]"
   ]
  },
  {
   "cell_type": "code",
   "execution_count": 17,
   "metadata": {},
   "outputs": [
    {
     "data": {
      "text/plain": [
       "array([17, 12,  2, 14,  6, 16, 13, 15,  5,  7, 10,  0,  9,  1,  8,  3, 11,\n",
       "        4])"
      ]
     },
     "execution_count": 17,
     "metadata": {},
     "output_type": "execute_result"
    }
   ],
   "source": [
    "np.array(t)[ind]"
   ]
  },
  {
   "cell_type": "code",
   "execution_count": 18,
   "metadata": {},
   "outputs": [
    {
     "data": {
      "text/plain": [
       "<BarContainer object of 18 artists>"
      ]
     },
     "execution_count": 18,
     "metadata": {},
     "output_type": "execute_result"
    },
    {
     "data": {
      "image/png": "[encoded data removed]",
      "text/plain": [
       "<Figure size 302.4x144 with 1 Axes>"
      ]
     },
     "metadata": {
      "needs_background": "light"
     },
     "output_type": "display_data"
    }
   ],
   "source": [
    "plt.figure(figsize=[4.2,2])\n",
    "ax1=plt.axes([0,0.55,1,.5])\n",
    "ax1.grid(zorder=20)\n",
    "ax1.bar(t,y,color=(.2,.2,.2),lw=0,align='center',width=.95)"
   ]
  },
  {
   "cell_type": "code",
   "execution_count": null,
   "metadata": {
    "jupyter": {
     "outputs_hidden": true
    }
   },
   "outputs": [],
   "source": []
  },
  {
   "cell_type": "code",
   "execution_count": 19,
   "metadata": {},
   "outputs": [
    {
     "data": {
      "image/png": "[encoded data removed]",
      "text/plain": [
       "<Figure size 288x288 with 2 Axes>"
      ]
     },
     "metadata": {
      "needs_background": "light"
     },
     "output_type": "display_data"
    }
   ],
   "source": [
    "plt.figure(figsize=[4,4])\n",
    "ax1=plt.axes([0.41,0,.4,1])\n",
    "ax1.grid(zorder=20)\n",
    "ax1.barh(t,y2[ind],color=(.2,.2,.2),lw=0,align='center',height=.90)\n",
    "\n",
    "ax1.set_yticks(t)\n",
    "ax1.set_xticks([0,5,10])\n",
    "ax1.set_ylim(-.5,17.5)\n",
    "ax1.set_xlim(0,10)\n",
    "\n",
    "ax1.tick_params(labelsize=12)\n",
    "ax1.set_yticklabels('')\n",
    "ax1.set_xlabel('x2',fontsize=fs)\n",
    "\n",
    "ax2=plt.axes([0,0,.4,1])\n",
    "ax2.barh(t,y[ind],color=(.2,.2,.2),lw=0,align='center',height=.90,alpha=1)\n",
    "\n",
    "ax2.set_yticks(t)\n",
    "ax2.set_yticklabels(np.array(t)[ind])\n",
    "ax2.set_ylim(-.5,17.5)\n",
    "\n",
    "ax2.set_xticks([5,10])\n",
    "ax2.set_xlim(10,0)\n",
    "ax2.set_ylabel('day',fontsize=fs)\n",
    "ax2.set_xlabel('x1',fontsize=fs)\n",
    "\n",
    "\n",
    "#ax2.annotate('value', xy=(1,-.15), ha='center', va='top',\n",
    "#            xycoords='axes fraction',fontsize=fs,color=gacolor)\n",
    "\n",
    "ax2.tick_params(labelsize=12)\n"
   ]
  },
  {
   "cell_type": "code",
   "execution_count": null,
   "metadata": {},
   "outputs": [],
   "source": []
  },
  {
   "cell_type": "code",
   "execution_count": null,
   "metadata": {},
   "outputs": [],
   "source": []
  }
 ],
 "metadata": {
  "kernelspec": {
   "display_name": "Python 3 (ipykernel)",
   "language": "python",
   "name": "python3"
  },
  "language_info": {
   "codemirror_mode": {
    "name": "ipython",
    "version": 3
   },
   "file_extension": ".py",
   "mimetype": "text/x-python",
   "name": "python",
   "nbconvert_exporter": "python",
   "pygments_lexer": "ipython3",
   "version": "3.10.4"
  },
  "toc": {
   "base_numbering": 1,
   "nav_menu": {},
   "number_sections": true,
   "sideBar": true,
   "skip_h1_title": false,
   "title_cell": "Table of Contents",
   "title_sidebar": "Contents",
   "toc_cell": false,
   "toc_position": {},
   "toc_section_display": true,
   "toc_window_display": false
  },
  "varInspector": {
   "cols": {
    "lenName": 16,
    "lenType": 16,
    "lenVar": 40
   },
   "kernels_config": {
    "python": {
     "delete_cmd_postfix": "",
     "delete_cmd_prefix": "del ",
     "library": "var_list.py",
     "varRefreshCmd": "print(var_dic_list())"
    },
    "r": {
     "delete_cmd_postfix": ") ",
     "delete_cmd_prefix": "rm(",
     "library": "var_list.r",
     "varRefreshCmd": "cat(var_dic_list()) "
    }
   },
   "types_to_exclude": [
    "module",
    "function",
    "builtin_function_or_method",
    "instance",
    "_Feature"
   ],
   "window_display": false
  }
 },
 "nbformat": 4,
 "nbformat_minor": 4
}
